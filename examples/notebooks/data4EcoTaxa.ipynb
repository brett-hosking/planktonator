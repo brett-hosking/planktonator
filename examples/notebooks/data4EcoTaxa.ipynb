{
 "cells": [
  {
   "cell_type": "code",
   "execution_count": 17,
   "metadata": {},
   "outputs": [],
   "source": [
    "import planktonator as plktor\n",
    "import os"
   ]
  },
  {
   "cell_type": "code",
   "execution_count": 18,
   "metadata": {},
   "outputs": [],
   "source": [
    "# Path to images to extract particles from\n",
    "path        = '../../img/'\n",
    "# Path for particles to be saved to\n",
    "output      = '../../particles/'\n",
    "# Input image dimensions\n",
    "height, width = 1230,1600\n",
    "# Project name \n",
    "project = 'planktonator_test'"
   ]
  },
  {
   "cell_type": "code",
   "execution_count": 19,
   "metadata": {},
   "outputs": [],
   "source": [
    "# Run Planktonator Particle Extractor\n",
    "plktor.run.extract_particles(path,output)"
   ]
  },
  {
   "cell_type": "code",
   "execution_count": 20,
   "metadata": {},
   "outputs": [],
   "source": [
    "# Run Planktonator Particle Measurements \n",
    "plktor.run.measure_particles(output,height,width,project=project)"
   ]
  },
  {
   "cell_type": "code",
   "execution_count": 21,
   "metadata": {},
   "outputs": [],
   "source": [
    "# Zip Data - ready to be imported in EcoTaxa\n",
    "plktor.tools.zipcompress(output,zipf=os.path.join(path,project))"
   ]
  }
 ],
 "metadata": {
  "kernelspec": {
   "display_name": "Python 3",
   "language": "python",
   "name": "python3"
  },
  "language_info": {
   "codemirror_mode": {
    "name": "ipython",
    "version": 3
   },
   "file_extension": ".py",
   "mimetype": "text/x-python",
   "name": "python",
   "nbconvert_exporter": "python",
   "pygments_lexer": "ipython3",
   "version": "3.7.2"
  }
 },
 "nbformat": 4,
 "nbformat_minor": 2
}
